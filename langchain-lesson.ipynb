{
 "cells": [
  {
   "cell_type": "code",
   "execution_count": null,
   "metadata": {},
   "outputs": [],
   "source": [
    "%load_ext autoreload\n",
    "%autoreload 2"
   ]
  },
  {
   "cell_type": "code",
   "execution_count": 2,
   "metadata": {},
   "outputs": [
    {
     "name": "stdout",
     "output_type": "stream",
     "text": [
      "/Users/vidhate/Documents/work/learn-react-agent/.venv/bin/python\n"
     ]
    }
   ],
   "source": [
    "import sys\n",
    "print(sys.executable)"
   ]
  },
  {
   "cell_type": "code",
   "execution_count": 7,
   "metadata": {},
   "outputs": [
    {
     "data": {
      "text/plain": [
       "True"
      ]
     },
     "execution_count": 7,
     "metadata": {},
     "output_type": "execute_result"
    }
   ],
   "source": [
    "from dotenv import load_dotenv\n",
    "load_dotenv(dotenv_path=\".env\")\n"
   ]
  },
  {
   "cell_type": "markdown",
   "metadata": {},
   "source": [
    "### Plan\n",
    "Follow the guide by Langchain on creating [ReAct agents from scratch](https://langchain-ai.github.io/langgraph/how-tos/react-agent-from-scratch/).  \n",
    "\n",
    "Steps to build Agent as a langgraph -  \n",
    "1. Define a State for the Agent - implicit implementation of an `add_messages` [reducer](https://langchain-ai.github.io/langgraph/concepts/low_level/#using-messages-in-your-graph)  \n",
    "2. Define a chat model  \n",
    "3. Define Tools that the chat model can use  \n",
    "4. Bind model with tools - implicit implementation of providing a definition of available tools to an LLM with schema    \n",
    "5. Create Reasoning and Action nodes  \n",
    "6. Create conditional edge that determines whether to return or to continue ReAct iteration  "
   ]
  },
  {
   "cell_type": "markdown",
   "metadata": {},
   "source": [
    "### Notes  \n",
    "1. The \"Action\" part of the ReAct agent needs a node of its own that can handle executing actions (tool calls) and gathering back the results and making it available back in a reasonable observation form (message history) for the LLM     \n",
    "2. The list of Actions (or tools) need to be defined globally, and then be made available to the reasoning LLM and the action executor both separately   \n",
    "3. The conditional logic on when to end vs keep doing ReAct is assumed to be when there are no more tool calls.   \n",
    "\n",
    "\n",
    "### Customizations  \n",
    "1. The LLM can have a multi-step reasoning process in the \"reason\" node - in the most general form it can be a workflow chain of multiple steps like COT followed by debate etc.  \n",
    "2. Tools can sometimes live in a space where it's not possible to observe the outcome of execution - example display results in a carousel FE component - what is a better way to deal in such situations? - provide back a dummy output to the LLM (success / fail) or update conditional logic of contiue vs END to ignore certain tool calls  \n",
    "3. Model can be dynamically binded to tools in the reason node allowing tools to be \"unlocked\" for a model instead of offering them universally - for example when certain tools are behind a paywall  \n",
    "4. Conditional logic can be much more complex on when to end reasoning instead of it being a simple \"END when no tool calls\"  \n",
    "5. Distinct Input and Output states and help format outptus better for Tools + Response type situations  \n",
    "6. Context Engineering is important across the board - likely a mix of how States are defined and what gets used and how in the reasoning node  "
   ]
  },
  {
   "cell_type": "code",
   "execution_count": 21,
   "metadata": {},
   "outputs": [],
   "source": [
    "from typing import List\n",
    "from langgraph.graph import MessagesState\n",
    "\n",
    "class AgentState(MessagesState):\n",
    "    character_traits: List[str] = []"
   ]
  },
  {
   "cell_type": "code",
   "execution_count": 10,
   "metadata": {},
   "outputs": [],
   "source": [
    "from langchain_openai import ChatOpenAI\n",
    "\n",
    "model = ChatOpenAI(model=\"gpt-4o-mini\", temperature=0)"
   ]
  },
  {
   "cell_type": "code",
   "execution_count": 13,
   "metadata": {},
   "outputs": [],
   "source": [
    "from langchain_core.tools import tool\n",
    "\n",
    "@tool\n",
    "def get_weather(location: str) -> str:\n",
    "    \"\"\"Get the weather for a specific location.\"\"\"\n",
    "    if location in [\"New York\", \"New York City\", \"NYC\"]:\n",
    "        return \"The weather in New York is sunny and 72 degrees Fahrenheit.\"\n",
    "    elif location in [\"San Francisco\", \"SF\", \"Bay Area\"]:\n",
    "        return \"The weather in San Francisco is sunny and 60 degrees Fahrenheit.\"\n",
    "    else:\n",
    "        return \"Cannot get weather for {location}.\""
   ]
  },
  {
   "cell_type": "code",
   "execution_count": 14,
   "metadata": {},
   "outputs": [],
   "source": [
    "tools = [get_weather]\n",
    "model = model.bind_tools(tools) # presumes that I want to present all tools to the model always"
   ]
  },
  {
   "cell_type": "code",
   "execution_count": 33,
   "metadata": {},
   "outputs": [],
   "source": [
    "from langchain_core.messages import ToolMessage, SystemMessage\n",
    "\n",
    "tool_map = {tool.name: tool for tool in tools}\n",
    "\n",
    "def execute_action(state: AgentState) -> AgentState:\n",
    "    \"\"\"Execute an action and return the result.\"\"\"\n",
    "\n",
    "    action_results = []\n",
    "    for tool_call in state[\"messages\"][-1].tool_calls: # this line assumes that parallel tool calls are supported by the LLM and all tool calls are made in a single message\n",
    "        tool_name = tool_call[\"name\"]\n",
    "        tool_input = tool_call[\"args\"]\n",
    "        tool_result = tool_map[tool_name].invoke(tool_input)\n",
    "        action_results.append(ToolMessage(content=tool_result, tool_call_id=tool_call[\"id\"], tool_name=tool_name))\n",
    "\n",
    "    return {\"messages\": action_results}\n",
    "\n",
    "\n",
    "def reasoning_node(state: AgentState) -> AgentState:\n",
    "    \"\"\"Reasoning node that uses the LLM to reason about how to best help user given their request\"\"\"\n",
    "\n",
    "    system_prompt = SystemMessage(content=\"You are a helpful AI assistant, please respond to the users query to the best of your ability!\")\n",
    "    response = model.invoke([system_prompt, *state[\"messages\"]])\n",
    "    return {\"messages\": [response]}"
   ]
  },
  {
   "cell_type": "code",
   "execution_count": 27,
   "metadata": {},
   "outputs": [],
   "source": [
    "def should_continue_react(state: AgentState):\n",
    "    \"\"\"Logic to determine if the agent should continue reasoning or return the result\"\"\"\n",
    "    if state[\"messages\"][-1].tool_calls:\n",
    "        return \"actions\"\n",
    "    return \"respond\""
   ]
  },
  {
   "cell_type": "code",
   "execution_count": 34,
   "metadata": {},
   "outputs": [
    {
     "data": {
      "image/png": "[encoded data removed]",
      "text/plain": [
       "<IPython.core.display.Image object>"
      ]
     },
     "metadata": {},
     "output_type": "display_data"
    }
   ],
   "source": [
    "from langgraph.graph import StateGraph, START, END\n",
    "from langchain_core.messages import HumanMessage\n",
    "\n",
    "agent_builder = StateGraph(AgentState)\n",
    "agent_builder.add_node(\"act\", execute_action)\n",
    "agent_builder.add_node(\"reason\", reasoning_node)\n",
    "agent_builder.add_edge(START, \"reason\")\n",
    "agent_builder.add_conditional_edges(\"reason\", should_continue_react, {\"actions\": \"act\", \"respond\": END})\n",
    "agent_builder.add_edge(\"act\", \"reason\")\n",
    "\n",
    "agent = agent_builder.compile()\n",
    "\n",
    "from IPython.display import Image, display\n",
    "\n",
    "try:\n",
    "    display(Image(agent.get_graph().draw_mermaid_png()))\n",
    "except Exception:\n",
    "    # This requires some extra dependencies and is optional\n",
    "    pass"
   ]
  },
  {
   "cell_type": "code",
   "execution_count": 36,
   "metadata": {},
   "outputs": [
    {
     "data": {
      "text/plain": [
       "{'messages': [HumanMessage(content='What is the weather in Mumbai?', additional_kwargs={}, response_metadata={}, id='7058a893-86d1-4b20-81c4-15c51c33cd66'),\n",
       "  AIMessage(content='', additional_kwargs={'tool_calls': [{'id': 'call_UHYLfAXhdc8csyOaVx3QqRVt', 'function': {'arguments': '{\"location\":\"Mumbai\"}', 'name': 'get_weather'}, 'type': 'function'}], 'refusal': None}, response_metadata={'token_usage': {'completion_tokens': 14, 'prompt_tokens': 72, 'total_tokens': 86, 'completion_tokens_details': {'accepted_prediction_tokens': 0, 'audio_tokens': 0, 'reasoning_tokens': 0, 'rejected_prediction_tokens': 0}, 'prompt_tokens_details': {'audio_tokens': 0, 'cached_tokens': 0}}, 'model_name': 'gpt-4o-mini-2024-07-18', 'system_fingerprint': 'fp_34a54ae93c', 'id': 'chatcmpl-Bm8ab1Lv5YJ7eCR5ZEsgeQbi3pYMz', 'service_tier': 'default', 'finish_reason': 'tool_calls', 'logprobs': None}, id='run--ac60b7d6-01dc-467d-b45e-58995cef18d0-0', tool_calls=[{'name': 'get_weather', 'args': {'location': 'Mumbai'}, 'id': 'call_UHYLfAXhdc8csyOaVx3QqRVt', 'type': 'tool_call'}], usage_metadata={'input_tokens': 72, 'output_tokens': 14, 'total_tokens': 86, 'input_token_details': {'audio': 0, 'cache_read': 0}, 'output_token_details': {'audio': 0, 'reasoning': 0}}),\n",
       "  ToolMessage(content='Cannot get weather for {location}.', id='0fea3f83-56bd-496c-a2cc-253bd29cafe8', tool_call_id='call_UHYLfAXhdc8csyOaVx3QqRVt', tool_name='get_weather'),\n",
       "  AIMessage(content=\"It seems I'm unable to retrieve the weather information for Mumbai at the moment. You might want to check a weather website or app for the latest updates. If you have any other questions or need assistance with something else, feel free to ask!\", additional_kwargs={'refusal': None}, response_metadata={'token_usage': {'completion_tokens': 49, 'prompt_tokens': 101, 'total_tokens': 150, 'completion_tokens_details': {'accepted_prediction_tokens': 0, 'audio_tokens': 0, 'reasoning_tokens': 0, 'rejected_prediction_tokens': 0}, 'prompt_tokens_details': {'audio_tokens': 0, 'cached_tokens': 0}}, 'model_name': 'gpt-4o-mini-2024-07-18', 'system_fingerprint': 'fp_197a02a720', 'id': 'chatcmpl-Bm8acj4Q37RpgVdULXcRjn9Km9He3', 'service_tier': 'default', 'finish_reason': 'stop', 'logprobs': None}, id='run--11a098bf-eae2-47fb-b3b6-887e31aa1fa2-0', usage_metadata={'input_tokens': 101, 'output_tokens': 49, 'total_tokens': 150, 'input_token_details': {'audio': 0, 'cache_read': 0}, 'output_token_details': {'audio': 0, 'reasoning': 0}})]}"
      ]
     },
     "execution_count": 36,
     "metadata": {},
     "output_type": "execute_result"
    }
   ],
   "source": [
    "agent.invoke({\"messages\": [HumanMessage(content=\"What is the weather in Mumbai?\")]})"
   ]
  },
  {
   "cell_type": "code",
   "execution_count": null,
   "metadata": {},
   "outputs": [],
   "source": []
  }
 ],
 "metadata": {
  "kernelspec": {
   "display_name": ".venv",
   "language": "python",
   "name": "python3"
  },
  "language_info": {
   "codemirror_mode": {
    "name": "ipython",
    "version": 3
   },
   "file_extension": ".py",
   "mimetype": "text/x-python",
   "name": "python",
   "nbconvert_exporter": "python",
   "pygments_lexer": "ipython3",
   "version": "3.12.2"
  }
 },
 "nbformat": 4,
 "nbformat_minor": 2
}
